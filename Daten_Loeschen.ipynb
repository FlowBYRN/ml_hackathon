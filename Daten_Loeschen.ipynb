{
 "cells": [
  {
   "cell_type": "markdown",
   "metadata": {},
   "source": [
    "# Daten löschen\n",
    "### Fehlende Werte und Duplikate"
   ]
  },
  {
   "cell_type": "code",
   "execution_count": 128,
   "metadata": {},
   "outputs": [
    {
     "name": "stdout",
     "output_type": "stream",
     "text": [
      "Anzahle von Exemplare: 2000\n"
     ]
    }
   ],
   "source": [
    "import pandas as pd\n",
    "import numpy as np\n",
    "\n",
    "df = pd.read_csv('dataset/train.csv', index_col='Id')\n",
    "\n",
    "initial_instance_count = len(df)\n"
   ]
  },
  {
   "cell_type": "code",
   "execution_count": 129,
   "metadata": {},
   "outputs": [],
   "source": [
    "# Deleting missing values\n",
    "df = df.dropna(subset=['Wohngebiet', 'Funktionalitaet', 'KuechenQualitaet', 'Elektrik'])\n",
    "\n",
    "# Fill missing values with -1 in feature 'Strassenlaenge'\n",
    "df['Strassenlaenge'] = df['Strassenlaenge'].fillna(-1)\n",
    "# df['Strassenlaenge'] = df['Strassenlaenge'].fillna('___')\n",
    "\n",
    "# Deleting features 'Zufahrtsweg' because there are too many null values\n",
    "# Deleting features 'Versorgung' because there are 2 missing values and others are 'EGWA'\n",
    "# Deleting features 'Dachmaterial' because there are many instances with the same value\n",
    "df = df.drop(['Zufahrtsweg', 'Versorgung', 'Dachmaterial'], axis=1)\n"
   ]
  },
  {
   "cell_type": "markdown",
   "metadata": {},
   "source": [
    "### Ausreißer"
   ]
  },
  {
   "cell_type": "code",
   "execution_count": 130,
   "metadata": {},
   "outputs": [],
   "source": [
    "# Limit 'Grundstuecksgroesse' with 6000 m2\n",
    "df = df[df['Grundstuecksgroesse'] < 6000]\n",
    "\n",
    "# Limit 'Strassenlaenge' with 60 m\n",
    "df = df[df['Strassenlaenge'] <= 60]\n",
    "\n",
    "# Delete instance 714 because there Baujahr is bigger than Umbaujahr\n",
    "df = df[df['Umbaujahr'] >= df['Baujahr']]\n"
   ]
  },
  {
   "cell_type": "markdown",
   "metadata": {},
   "source": [
    "### Distribution"
   ]
  },
  {
   "cell_type": "code",
   "execution_count": 131,
   "metadata": {},
   "outputs": [],
   "source": [
    "# Delete 'Bedingung2' because there are only 13 values which are not 'Norm'\n",
    "df = df.drop('Bedingung2', axis=1)\n",
    "\n",
    "# Merge values EbOA, EbOU, EbNA, EbNU into 'Hbf' and PosN, PosA into 'Pos' for 'Bedingung1' feature\n",
    "df['Bedingung1'] = df['Bedingung1'].replace(['EbOA', 'EbOU', 'EbNA', 'EbNU'], 'Hbf')\n",
    "df['Bedingung1'] = df['Bedingung1'].replace(['PosN', 'PosA'], 'Pos')\n",
    "\n",
    "# Delete features 'Grundstuecksform', 'Gelaendeneigun', 'Strassentyp' because of bad distribution of values\n",
    "df = df.drop(['Grundstuecksform', 'Gelaendeneigung', 'Strassentyp'], axis=1)"
   ]
  },
  {
   "cell_type": "code",
   "execution_count": 145,
   "metadata": {},
   "outputs": [
    {
     "name": "stdout",
     "output_type": "stream",
     "text": [
      "11 (0.55%) Exemplare wurden entfernt. Anzahle von Exemplare: 1989\n"
     ]
    }
   ],
   "source": [
    "final_instance_count = len(df)\n",
    "print(f'{initial_instance_count - final_instance_count} '\n",
    "      f'({round((initial_instance_count - final_instance_count) / initial_instance_count * 100, 3)}%)'\n",
    "      f' Exemplare wurden entfernt. Anzahle von Exemplare: {final_instance_count}')\n"
   ]
  }
 ],
 "metadata": {
  "kernelspec": {
   "display_name": "Python 3",
   "language": "python",
   "name": "python3"
  },
  "language_info": {
   "codemirror_mode": {
    "name": "ipython",
    "version": 3
   },
   "file_extension": ".py",
   "mimetype": "text/x-python",
   "name": "python",
   "nbconvert_exporter": "python",
   "pygments_lexer": "ipython3",
   "version": "3.11.4"
  }
 },
 "nbformat": 4,
 "nbformat_minor": 2
}
