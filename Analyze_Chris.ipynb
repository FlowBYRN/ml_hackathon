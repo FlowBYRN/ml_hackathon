{
 "cells": [
  {
   "cell_type": "code",
   "execution_count": null,
   "id": "initial_id",
   "metadata": {
    "collapsed": true
   },
   "outputs": [],
   "source": [
    "import pandas as pd\n",
    "import numpy as np\n",
    "\n",
    "df = pd.read_csv(\"dataset/train.csv\")\n",
    "\n",
    "df_chris = df.iloc[:,-20:]\n",
    "print(df.shape)\n",
    "print(df_chris.shape)\n",
    "print(df.columns)"
   ]
  },
  {
   "cell_type": "code",
   "execution_count": null,
   "outputs": [],
   "source": [
    "df_chris.dtypes"
   ],
   "metadata": {
    "collapsed": false
   },
   "id": "28378c8baa3269a1"
  },
  {
   "cell_type": "code",
   "execution_count": null,
   "outputs": [],
   "source": [
    "df_chris.describe(include = 'all'"
   ],
   "metadata": {
    "collapsed": false
   },
   "id": "a3a20f7b2f476b8"
  },
  {
   "cell_type": "code",
   "execution_count": null,
   "outputs": [],
   "source": [],
   "metadata": {
    "collapsed": false
   },
   "id": "94bffc810988740d"
  },
  {
   "cell_type": "code",
   "execution_count": null,
   "outputs": [],
   "source": [],
   "metadata": {
    "collapsed": false
   },
   "id": "814a676762a24be5"
  },
  {
   "cell_type": "code",
   "execution_count": null,
   "outputs": [],
   "source": [
    "df_chris.isnull().sum(axis = 0)\n",
    "df_chris.isna().sum(axis = 0)\n"
   ],
   "metadata": {
    "collapsed": false
   },
   "id": "fe90e5ff425ee11d"
  },
  {
   "cell_type": "markdown",
   "source": [
    "delete Poolqualitaet (only 10 entries)\n",
    "delete Zaunqualitaet (only around 400 entries)\n",
    "delete Sondermerkmal (less ten 100 entries)"
   ],
   "metadata": {
    "collapsed": false,
    "ExecuteTime": {
     "end_time": "2023-11-22T15:51:44.408263600Z",
     "start_time": "2023-11-22T15:51:44.377153Z"
    }
   },
   "id": "a0047dda16a19881"
  },
  {
   "cell_type": "code",
   "execution_count": null,
   "outputs": [],
   "source": [
    "from matplotlib.ticker import PercentFormatter\n",
    "import matplotlib.pyplot as plt\n",
    "\n",
    "def plot_histogram(data, nbins, figsize=None, title='', xlabel='', ylabel='Frequency'):\n",
    "    \n",
    "    plt.figure(figsize=figsize)\n",
    "    plt.hist(data, bins=nbins,  weights=np.ones(len(data)) / len(data))\n",
    "    plt.gca().yaxis.set_major_formatter(PercentFormatter(1))\n",
    "    plt.title(title)\n",
    "    plt.xlabel(xlabel)\n",
    "    plt.ylabel(ylabel)\n",
    "    plt.show()\n",
    "    \n",
    "\n",
    "    "
   ],
   "metadata": {
    "collapsed": false
   },
   "id": "9813e39f8b273135"
  },
  {
   "cell_type": "code",
   "execution_count": null,
   "outputs": [],
   "source": [
    "def plot_scatter(data1, data2, figsize=None, title='', xlabel='', ylabel='Frequency', s=None):\n",
    "    plt.figure(figsize=figsize)\n",
    "    plt.scatter(data1, data2, s=s)\n",
    "    plt.title(title)\n",
    "    plt.xlabel(xlabel)\n",
    "    plt.ylabel(ylabel)\n",
    "    plt.show()\n",
    "    "
   ],
   "metadata": {
    "collapsed": false
   },
   "id": "eeacb9b3b596a1a9"
  },
  {
   "cell_type": "code",
   "execution_count": null,
   "outputs": [],
   "source": [
    "import pandas as pd\n",
    "import scipy.stats as stats\n",
    "import seaborn as sns\n",
    "import matplotlib.pyplot as plt\n",
    "\n",
    "contingency_table = pd.crosstab(df_chris['Garagenzustand'], df_chris['Garagenqualitaet'])\n",
    "\n",
    "chi2, p, dof, expected = stats.chi2_contingency(contingency_table)\n",
    "\n",
    "import numpy as np\n",
    "\n",
    "def cramers_v(stat, obs):\n",
    "    \"\"\"Calculate Cramer's V statistic.\"\"\"\n",
    "    return np.sqrt(stat / obs / (min(contingency_table.shape) - 1))\n",
    "\n",
    "v = cramers_v(chi2, contingency_table.sum().sum())\n",
    "\n",
    "plt.figure(figsize=(10, 7))\n",
    "sns.heatmap(contingency_table, annot=True, cmap=\"YlGnBu\", fmt='g')\n",
    "plt.title('Heatmap of Garagenzustand vs Garagenqualitaet')\n",
    "plt.ylabel('Garagenzustand')\n",
    "plt.xlabel('Garagenqualitaet')\n",
    "plt.show()\n"
   ],
   "metadata": {
    "collapsed": false
   },
   "id": "d452c16f853b690f"
  },
  {
   "cell_type": "code",
   "execution_count": null,
   "outputs": [],
   "source": [
    "#np.corrcoef(df_chris[\"Garagenqualitaet\"], df_chris[\"Garagenzustand\"])\n",
    "\n",
    "df[\"Verkaufspreis\"].mean()"
   ],
   "metadata": {
    "collapsed": false
   },
   "id": "fc607d4c9d419700"
  },
  {
   "cell_type": "code",
   "execution_count": null,
   "outputs": [],
   "source": [
    "import matplotlib.pyplot as plt\n",
    "\n",
    "def plot_scatter(data, feature):\n",
    "    if feature == 'Verkaufspreis':\n",
    "        return\n",
    "\n",
    "    plt.figure(figsize=(10, 6))  # Adjust the figure size as needed\n",
    "\n",
    "    _ = data[data[feature].notnull()]\n",
    "    \n",
    "    plt.scatter(_[feature], _['Verkaufspreis'], s=5)  # Increase the size of the points if needed\n",
    "    plt.title(feature)\n",
    "    plt.ylabel('Verkaufspreis')\n",
    "    \n",
    "    if feature in ['Nachbarschaft', 'Bedingung1']:\n",
    "        plt.xticks(rotation=45, ha='right')\n",
    "\n",
    "    plt.show()\n"
   ],
   "metadata": {
    "collapsed": false
   },
   "id": "423c6246f12e39f9"
  },
  {
   "cell_type": "code",
   "execution_count": null,
   "outputs": [],
   "source": [
    "for feature in df_chris.columns:\n",
    "    plot_scatter(df_chris, feature)"
   ],
   "metadata": {
    "collapsed": false
   },
   "id": "40a9954aac61f356"
  },
  {
   "cell_type": "code",
   "execution_count": null,
   "outputs": [],
   "source": [
    "def most_common_value(data, feature):\n",
    "    most_common = data[feature].value_counts().idxmax()\n",
    "    frequency = data[feature].value_counts().max()\n",
    "    print(f\"Most common value in {feature}: {most_common} (Frequency: {frequency})\")\n"
   ],
   "metadata": {
    "collapsed": false
   },
   "id": "316c6d996cce3e4"
  },
  {
   "cell_type": "code",
   "execution_count": null,
   "outputs": [],
   "source": [
    "for features in df_chris.columns:\n",
    "    most_common_value(df_chris, features)\n"
   ],
   "metadata": {
    "collapsed": false
   },
   "id": "8646d24ff143234f"
  },
  {
   "cell_type": "code",
   "execution_count": null,
   "outputs": [],
   "source": [
    "def mean_verkaufspreis_per_category(data, feature):\n",
    "    if data[feature].dtype == 'object':  # Check if the feature is categorical\n",
    "        grouped_data = data.groupby(feature)['Verkaufspreis'].agg(['mean', 'count'])\n",
    "\n",
    "        # Sorting by the mean 'Verkaufspreis'\n",
    "        sorted_grouped_data = grouped_data.sort_values(by='mean', ascending=False)\n",
    "\n",
    "        # Formatting the output\n",
    "        sorted_grouped_data['mean'] = sorted_grouped_data['mean'].apply(lambda x: f\"{x:.2f}\")  # Format with two decimal places\n",
    "\n",
    "        print(f\"Sorted mean 'Verkaufspreis' and count per category in {feature}:\\n{sorted_grouped_data}\")\n"
   ],
   "metadata": {
    "collapsed": false
   },
   "id": "345b6303aa0e4537"
  },
  {
   "cell_type": "code",
   "execution_count": null,
   "outputs": [],
   "source": [
    "import matplotlib.pyplot as plt\n",
    "\n",
    "def mean_verkaufspreis_per_category_and_plot(data, feature):\n",
    "    if data[feature].dtype == 'object':  # Check if the feature is categorical\n",
    "        grouped_data = data.groupby(feature)['Verkaufspreis'].agg(['mean', 'count'])\n",
    "        sorted_grouped_data = grouped_data.sort_values(by='mean', ascending=False)\n",
    "\n",
    "        # Plotting\n",
    "        fig, axes = plt.subplots(nrows=2, ncols=1, figsize=(12, 8))\n",
    "\n",
    "        # Plot for mean 'Verkaufspreis'\n",
    "        sorted_grouped_data['mean'].plot(kind='bar', ax=axes[0], color='skyblue')\n",
    "        axes[0].set_title(f\"Mean 'Verkaufspreis' per Category in {feature}\")\n",
    "        axes[0].set_ylabel('Mean Verkaufspreis')\n",
    "\n",
    "        # Plot for count of observations\n",
    "        sorted_grouped_data['count'].plot(kind='bar', ax=axes[1], color='lightgreen')\n",
    "        axes[1].set_title(f\"Count per Category in {feature}\")\n",
    "        axes[1].set_ylabel('Count')\n",
    "\n",
    "        plt.tight_layout()\n",
    "        plt.show()\n"
   ],
   "metadata": {
    "collapsed": false
   },
   "id": "8e94b1a93bd6d2ff"
  },
  {
   "cell_type": "code",
   "execution_count": null,
   "outputs": [],
   "source": [
    "for feature in df_chris.columns:\n",
    "    mean_verkaufspreis_per_category_and_plot(df_chris, feature)\n"
   ],
   "metadata": {
    "collapsed": false
   },
   "id": "6f69339560a812da"
  },
  {
   "cell_type": "code",
   "execution_count": null,
   "outputs": [],
   "source": [
    "for feature in (df_chris.columns):\n",
    "    mean_verkaufspreis_per_category(df_chris, feature)\n"
   ],
   "metadata": {
    "collapsed": false
   },
   "id": "880aeaa621c90b0b"
  }
 ],
 "metadata": {
  "kernelspec": {
   "display_name": "Python 3",
   "language": "python",
   "name": "python3"
  },
  "language_info": {
   "codemirror_mode": {
    "name": "ipython",
    "version": 2
   },
   "file_extension": ".py",
   "mimetype": "text/x-python",
   "name": "python",
   "nbconvert_exporter": "python",
   "pygments_lexer": "ipython2",
   "version": "2.7.6"
  }
 },
 "nbformat": 4,
 "nbformat_minor": 5
}
